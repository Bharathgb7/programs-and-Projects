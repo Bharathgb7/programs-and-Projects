from flask import Flask, request, render_template from
sklearn.feature_extraction.text import
TfidfVectorizerfrom sklearn.metrics.pairwise import
cosine_similarity
from vaderSentiment.vaderSentiment import SentimentIntensityAnalyzer
import nltk
from string import
punctuationimport re from
nltk.corpus importstopwords
nltk.download('stopwords')
set(stopwords.words('english
)) app = Flask( name )
@app.rout
e('/')def
my_form
):
return render_template('form.html')
@app.route('/', methods=['POST'])def
my_form_post():
stop_words = stopwords.words('english')
#convert to lowercase
text1 = request.form['text1'].lower()
text_final = ''.join(c for c in text1 if not c.isdigit())
#remove punctuations
#text3 = ''.join(c for c in text2 if c not in punctuation)
#remove stopwords
processed_doc1 = ' '.join([word for word in text_final.split() if word not in stop_words])sa =
SentimentIntensityAnalyzer()
dd = sa.polarity_scores(text=processed_doc1)
compound = round((1 + dd['compound'])/2,2)
return render_template('form.html', final=compound, text1=text_final,text2=dd['pos'],text5=dd['neg'],
text4=compound,text3=dd['neu'])
if name == " main ":
app.run(debug=True, host="127.0.0.1", port=5002, threaded=Tru